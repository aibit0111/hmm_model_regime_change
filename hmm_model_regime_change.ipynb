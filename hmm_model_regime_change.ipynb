{
  "nbformat": 4,
  "nbformat_minor": 0,
  "metadata": {
    "colab": {
      "provenance": []
    },
    "kernelspec": {
      "name": "python3",
      "display_name": "Python 3"
    },
    "language_info": {
      "name": "python"
    }
  },
  "cells": [
    {
      "cell_type": "code",
      "execution_count": null,
      "metadata": {
        "id": "sHvoVTsU3Jnq"
      },
      "outputs": [],
      "source": [
        "# Hidden Markov Models for Bitcoin Regime Detection Using pomegranate and Alpha-Stable Distributions\n",
        "\n",
        "# This notebook will guide you through detecting regime changes in simulated Bitcoin data using Hidden Markov Models (HMM)\n",
        "# with non-Gaussian Alpha-Stable distributions, leveraging the pomegranate library.\n",
        "\n",
        "# In financial markets, regime changes indicate shifts between different market conditions, such as bullish, bearish,\n",
        "# and sideways markets. These changes often involve varying volatility conditions.\n",
        "\n",
        "# 1. First, we will simulate data that mimics Bitcoin returns under various regimes.\n",
        "# 2. Then, we will fit an HMM model using the Alpha-Stable distribution to account for Bitcoin's non-Gaussian return distribution.\n",
        "# 3. Finally, we will predict the market regimes, visualize them, and export the results for further analysis.\n",
        "\n",
        "# Let's get started!\n",
        "\n",
        "# ## Step 1: Simulate Bitcoin-like Data for Regimes\n",
        "\n",
        "# We will simulate different market regimes, including bull markets, bear markets, and range markets, each with low and high volatility.\n"
      ]
    },
    {
      "cell_type": "code",
      "source": [
        "\n",
        "import numpy as np\n",
        "import pandas as pd\n",
        "import matplotlib.pyplot as plt\n",
        "\n",
        "# Set random seed for reproducibility\n",
        "np.random.seed(42)\n",
        "\n",
        "# Define the number of samples per regime\n",
        "n_samples = 1000\n",
        "\n",
        "# Simulate returns for different regimes\n",
        "regimes = {\n",
        "    'bull_low_vol': np.random.normal(0.001, 0.01, size=n_samples),   # Bull market, low volatility\n",
        "    'bull_high_vol': np.random.normal(0.001, 0.05, size=n_samples),  # Bull market, high volatility\n",
        "    'bear_low_vol': np.random.normal(-0.001, 0.01, size=n_samples),  # Bear market, low volatility\n",
        "    'bear_high_vol': np.random.normal(-0.001, 0.05, size=n_samples), # Bear market, high volatility\n",
        "    'range_low_vol': np.random.normal(0, 0.01, size=n_samples),      # Range market, low volatility\n",
        "    'range_high_vol': np.random.normal(0, 0.05, size=n_samples)      # Range market, high volatility\n",
        "}\n",
        "\n",
        "# Combine regimes into a single time series by concatenating the different arrays\n",
        "data = np.concatenate([regimes['bull_low_vol'], regimes['bull_high_vol'],\n",
        "                       regimes['bear_low_vol'], regimes['bear_high_vol'],\n",
        "                       regimes['range_low_vol'], regimes['range_high_vol']])\n",
        "\n",
        "# Create a date range for the simulated data\n",
        "dates = pd.date_range(start='2023-01-01', periods=len(data))\n",
        "\n",
        "# Create a DataFrame to hold the simulated data\n",
        "df = pd.DataFrame({'Date': dates, 'Returns': data})\n",
        "df.set_index('Date', inplace=True)\n",
        "\n",
        "# Plot the simulated returns\n",
        "df['Returns'].plot(title='Simulated Bitcoin-like Returns', figsize=(10, 6))\n",
        "plt.show()"
      ],
      "metadata": {
        "id": "yX2YhSqK3NUO"
      },
      "execution_count": null,
      "outputs": []
    },
    {
      "cell_type": "code",
      "source": [
        "# ### Explanation:\n",
        "# In this step, we have simulated 6 different regimes:\n",
        "# - Bull market with low volatility\n",
        "# - Bull market with high volatility\n",
        "# - Bear market with low volatility\n",
        "# - Bear market with high volatility\n",
        "# - Range (sideways) market with low volatility\n",
        "# - Range market with high volatility\n",
        "\n",
        "# These regimes are concatenated into a single time series, and we visualize the combined returns.\n",
        "\n",
        "# ## Step 2: Fit the Hidden Markov Model with Alpha-Stable Distribution\n",
        "\n",
        "# Now that we have our simulated returns, we will use the pomegranate library to fit a Hidden Markov Model (HMM).\n",
        "# We will assume the returns are generated from an Alpha-Stable distribution, which is more flexible than the traditional\n",
        "# Gaussian distribution and can model Bitcoin's fat tails and volatility clustering.\n"
      ],
      "metadata": {
        "id": "t80y-h0-3Prl"
      },
      "execution_count": null,
      "outputs": []
    },
    {
      "cell_type": "code",
      "source": [
        "from pomegranate import HiddenMarkovModel, AlphaStableDistribution\n",
        "\n",
        "# Define the number of hidden states (regimes) - 6 regimes: bull/bear/range with low/high volatility\n",
        "n_components = 6\n",
        "\n",
        "# Initialize Alpha-Stable distributions for each state (regime)\n",
        "states = []\n",
        "for i in range(n_components):\n",
        "    dist = AlphaStableDistribution(alpha=1.7, beta=0, gamma=0.02, delta=0.001)  # Example parameters for Alpha-Stable\n",
        "    states.append(dist)\n",
        "\n",
        "# Create and fit the Hidden Markov Model\n",
        "model = HiddenMarkovModel.from_samples(AlphaStableDistribution, n_components=n_components,\n",
        "                                       X=df['Returns'].values.reshape(-1, 1),\n",
        "                                       algorithm='baum-welch', n_iter=100)\n",
        "\n",
        "# Print model summary\n",
        "print(model)"
      ],
      "metadata": {
        "id": "9pwxlNAP3RTi"
      },
      "execution_count": null,
      "outputs": []
    },
    {
      "cell_type": "code",
      "source": [
        "# ### Explanation:\n",
        "# - We create an HMM with 6 hidden states, each corresponding to one of the regimes (bull/bear/range with low/high volatility).\n",
        "# - For each hidden state, we initialize an Alpha-Stable distribution with specific parameters (alpha, beta, gamma, delta).\n",
        "#   These parameters allow the distribution to model fat tails and asymmetry commonly seen in financial data.\n",
        "# - The model is trained using the Baum-Welch algorithm, which adjusts the transition probabilities and state distributions\n",
        "#   to best fit the observed data.\n",
        "\n",
        "# ## Step 3: Predict the Market Regimes\n",
        "\n",
        "# After fitting the HMM, we can predict the hidden regimes (market conditions) that correspond to each time step in our data.\n",
        "\n",
        "# Predict the hidden states (regimes) for the entire dataset"
      ],
      "metadata": {
        "id": "t_ewgzqw3Sx0"
      },
      "execution_count": null,
      "outputs": []
    },
    {
      "cell_type": "code",
      "source": [
        "predicted_states = model.predict(df['Returns'].values.reshape(-1, 1))\n",
        "\n",
        "# Add the predicted regimes to the DataFrame\n",
        "df['Regime'] = predicted_states\n",
        "\n",
        "# Plot the returns with the predicted regimes\n",
        "colors = {0: 'green', 1: 'blue', 2: 'red', 3: 'orange', 4: 'purple', 5: 'yellow'}\n",
        "plt.figure(figsize=(10,6))\n",
        "for state in range(n_components):\n",
        "    state_data = df[df['Regime'] == state]\n",
        "    plt.scatter(state_data.index, state_data['Returns'], color=colors[state], label=f'State {state}', s=1)\n",
        "plt.legend()\n",
        "plt.title('Simulated Bitcoin Regimes Detected by HMM')\n",
        "plt.show()"
      ],
      "metadata": {
        "id": "HbiD8Wh73UKM"
      },
      "execution_count": null,
      "outputs": []
    },
    {
      "cell_type": "code",
      "source": [
        "# ### Explanation:\n",
        "# - The `model.predict()` method assigns each data point (return value) to a hidden state (regime).\n",
        "# - We visualize the predicted regimes by coloring each time period based on the regime assigned by the HMM.\n",
        "# - Each state (0 to 5) corresponds to one of the 6 simulated regimes.\n",
        "\n",
        "# ## Step 4: Export the Results to CSV\n",
        "\n",
        "# Export the DataFrame with the predicted regimes to a CSV file for further analysis.\n"
      ],
      "metadata": {
        "id": "tOzuFjdm3WWE"
      },
      "execution_count": null,
      "outputs": []
    },
    {
      "cell_type": "code",
      "source": [
        "df.to_csv('regimes_prediction.csv')"
      ],
      "metadata": {
        "id": "KutEh5YA3XyE"
      },
      "execution_count": null,
      "outputs": []
    },
    {
      "cell_type": "code",
      "source": [
        "# ### Explanation:\n",
        "# - The DataFrame now contains the simulated returns and the corresponding regime (market condition) at each time step.\n",
        "# - We export the results to a CSV file to facilitate further analysis, such as backtesting or performance evaluation of trading strategies based on regime detection.\n",
        "\n",
        "# ## Step 5: Further Analysis\n",
        "\n",
        "# In this notebook, we used simulated data to demonstrate how to detect regime changes using a Hidden Markov Model with Alpha-Stable distributions.\n",
        "# The pomegranate library provides flexibility in modeling the non-Gaussian nature of financial returns, making it a good choice for regime detection in markets like Bitcoin.\n",
        "\n",
        "# You can extend this analysis by:\n",
        "# - Using real Bitcoin data (e.g., from yfinance or Binance API) instead of simulated data.\n",
        "# - Tuning the parameters of the Alpha-Stable distribution to better match the characteristics of Bitcoin returns.\n",
        "# - Incorporating additional features, such as volatility or volume, to improve regime detection accuracy."
      ],
      "metadata": {
        "id": "IwA6EYab3bBX"
      },
      "execution_count": null,
      "outputs": []
    },
    {
      "cell_type": "code",
      "source": [],
      "metadata": {
        "id": "PC0rTtWf3bQH"
      },
      "execution_count": null,
      "outputs": []
    }
  ]
}